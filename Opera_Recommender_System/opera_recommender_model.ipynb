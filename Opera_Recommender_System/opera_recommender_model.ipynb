{
 "cells": [
  {
   "cell_type": "code",
   "execution_count": 1,
   "id": "7e52a23f",
   "metadata": {
    "_cell_guid": "b1076dfc-b9ad-4769-8c92-a6c4dae69d19",
    "_uuid": "8f2839f25d086af736a60e9eeb907d3b93b6e0e5",
    "execution": {
     "iopub.execute_input": "2021-11-17T16:37:12.035619Z",
     "iopub.status.busy": "2021-11-17T16:37:12.034413Z",
     "iopub.status.idle": "2021-11-17T16:37:13.861764Z",
     "shell.execute_reply": "2021-11-17T16:37:13.862539Z",
     "shell.execute_reply.started": "2021-11-17T16:03:51.525612Z"
    },
    "papermill": {
     "duration": 1.840345,
     "end_time": "2021-11-17T16:37:13.862948",
     "exception": false,
     "start_time": "2021-11-17T16:37:12.022603",
     "status": "completed"
    },
    "tags": []
   },
   "outputs": [
    {
     "name": "stdout",
     "output_type": "stream",
     "text": [
      "[nltk_data] Downloading package wordnet to /usr/share/nltk_data...\n",
      "[nltk_data]   Package wordnet is already up-to-date!\n",
      "[nltk_data] Downloading package punkt to /usr/share/nltk_data...\n",
      "[nltk_data]   Package punkt is already up-to-date!\n"
     ]
    }
   ],
   "source": [
    "import pandas as pd\n",
    "import numpy as np\n",
    "import sys\n",
    "import os\n",
    "import csv\n",
    "import json\n",
    "from pathlib import Path\n",
    "import logging\n",
    "from sklearn.feature_extraction.text import TfidfVectorizer\n",
    "from sklearn.metrics.pairwise import cosine_similarity,linear_kernel\n",
    "import math\n",
    "import time\n",
    "import pickle\n",
    "import dill\n",
    "import string\n",
    "import nltk\n",
    "nltk.download('wordnet')\n",
    "nltk.download('punkt')\n",
    "from nltk.tokenize import word_tokenize\n",
    "from nltk.corpus import stopwords\n",
    "from nltk.stem import WordNetLemmatizer\n",
    "sys.path.append(str(Path.cwd().parent))"
   ]
  },
  {
   "cell_type": "code",
   "execution_count": 2,
   "id": "19ef730d",
   "metadata": {
    "execution": {
     "iopub.execute_input": "2021-11-17T16:37:13.886861Z",
     "iopub.status.busy": "2021-11-17T16:37:13.885897Z",
     "iopub.status.idle": "2021-11-17T16:37:13.890099Z",
     "shell.execute_reply": "2021-11-17T16:37:13.890697Z",
     "shell.execute_reply.started": "2021-11-17T16:07:52.415494Z"
    },
    "papermill": {
     "duration": 0.018507,
     "end_time": "2021-11-17T16:37:13.890880",
     "exception": false,
     "start_time": "2021-11-17T16:37:13.872373",
     "status": "completed"
    },
    "tags": []
   },
   "outputs": [],
   "source": [
    "dataset = Path.cwd().parent/\"input/opera-dtestone2/opera_dataset.csv\""
   ]
  },
  {
   "cell_type": "code",
   "execution_count": 3,
   "id": "689359b5",
   "metadata": {
    "execution": {
     "iopub.execute_input": "2021-11-17T16:37:13.915414Z",
     "iopub.status.busy": "2021-11-17T16:37:13.914777Z",
     "iopub.status.idle": "2021-11-17T16:37:13.955314Z",
     "shell.execute_reply": "2021-11-17T16:37:13.955945Z",
     "shell.execute_reply.started": "2021-11-17T16:08:50.675945Z"
    },
    "papermill": {
     "duration": 0.054622,
     "end_time": "2021-11-17T16:37:13.956112",
     "exception": false,
     "start_time": "2021-11-17T16:37:13.901490",
     "status": "completed"
    },
    "tags": []
   },
   "outputs": [
    {
     "data": {
      "text/html": [
       "<div>\n",
       "<style scoped>\n",
       "    .dataframe tbody tr th:only-of-type {\n",
       "        vertical-align: middle;\n",
       "    }\n",
       "\n",
       "    .dataframe tbody tr th {\n",
       "        vertical-align: top;\n",
       "    }\n",
       "\n",
       "    .dataframe thead th {\n",
       "        text-align: right;\n",
       "    }\n",
       "</style>\n",
       "<table border=\"1\" class=\"dataframe\">\n",
       "  <thead>\n",
       "    <tr style=\"text-align: right;\">\n",
       "      <th></th>\n",
       "      <th>Name</th>\n",
       "      <th>Description</th>\n",
       "      <th>Composer</th>\n",
       "      <th>Genre</th>\n",
       "    </tr>\n",
       "  </thead>\n",
       "  <tbody>\n",
       "    <tr>\n",
       "      <th>0</th>\n",
       "      <td>L'Orfeo</td>\n",
       "      <td>In the fields of Thrace the marriage of Orpheu...</td>\n",
       "      <td>Claudio Monteverdi</td>\n",
       "      <td>Baroque</td>\n",
       "    </tr>\n",
       "    <tr>\n",
       "      <th>1</th>\n",
       "      <td>Orfeo ed Euridice</td>\n",
       "      <td>Orpheus stands before Eurydice's tomb, lost in...</td>\n",
       "      <td>Christoph Willibald Gluck</td>\n",
       "      <td>Classical</td>\n",
       "    </tr>\n",
       "    <tr>\n",
       "      <th>2</th>\n",
       "      <td>Orphée aux Enfers</td>\n",
       "      <td>A melodrama (Introduction and Melodrame) opens...</td>\n",
       "      <td>Jacques Offenbach</td>\n",
       "      <td>Opera Comic</td>\n",
       "    </tr>\n",
       "    <tr>\n",
       "      <th>3</th>\n",
       "      <td>Ormindo</td>\n",
       "      <td>The Maghreb princes, Amida and Ormindo, who ar...</td>\n",
       "      <td>Francesco Cavalli</td>\n",
       "      <td>Baroque</td>\n",
       "    </tr>\n",
       "    <tr>\n",
       "      <th>4</th>\n",
       "      <td>Giasone</td>\n",
       "      <td>Hercules (Ercole) has persuaded Jason (Giasone...</td>\n",
       "      <td>Francesco Cavalli</td>\n",
       "      <td>Baroque</td>\n",
       "    </tr>\n",
       "  </tbody>\n",
       "</table>\n",
       "</div>"
      ],
      "text/plain": [
       "                Name                                        Description  \\\n",
       "0            L'Orfeo  In the fields of Thrace the marriage of Orpheu...   \n",
       "1  Orfeo ed Euridice  Orpheus stands before Eurydice's tomb, lost in...   \n",
       "2  Orphée aux Enfers  A melodrama (Introduction and Melodrame) opens...   \n",
       "3            Ormindo  The Maghreb princes, Amida and Ormindo, who ar...   \n",
       "4            Giasone  Hercules (Ercole) has persuaded Jason (Giasone...   \n",
       "\n",
       "                    Composer        Genre  \n",
       "0         Claudio Monteverdi      Baroque  \n",
       "1  Christoph Willibald Gluck    Classical  \n",
       "2          Jacques Offenbach  Opera Comic  \n",
       "3          Francesco Cavalli      Baroque  \n",
       "4          Francesco Cavalli      Baroque  "
      ]
     },
     "execution_count": 3,
     "metadata": {},
     "output_type": "execute_result"
    }
   ],
   "source": [
    "data = pd.read_csv(dataset)\n",
    "data.head()"
   ]
  },
  {
   "cell_type": "code",
   "execution_count": 4,
   "id": "58e3f612",
   "metadata": {
    "collapsed": true,
    "execution": {
     "iopub.execute_input": "2021-11-17T16:37:13.979033Z",
     "iopub.status.busy": "2021-11-17T16:37:13.978064Z",
     "iopub.status.idle": "2021-11-17T16:37:14.025162Z",
     "shell.execute_reply": "2021-11-17T16:37:14.024318Z",
     "shell.execute_reply.started": "2021-11-17T16:08:53.232128Z"
    },
    "jupyter": {
     "outputs_hidden": true
    },
    "papermill": {
     "duration": 0.060847,
     "end_time": "2021-11-17T16:37:14.025354",
     "exception": false,
     "start_time": "2021-11-17T16:37:13.964507",
     "status": "completed"
    },
    "tags": []
   },
   "outputs": [
    {
     "name": "stdout",
     "output_type": "stream",
     "text": [
      "{'fields': 846, 'thrace': 2160, 'marriage': 1312, 'orpheus': 1473, 'eurydice': 766, 'euridice': 763, 'celebrated': 342, 'sings': 1984, 'song': 2010, 'love': 1270, 'praise': 1615, 'nymphs': 1442, 'shepherds': 1953, 'share': 1946, 'joy': 1169, 'accompany': 15, 'temple': 2146, 'woods': 2352, 'mood': 1372, 'celebration': 344, 'ended': 727, 'arrival': 137, 'sylvia': 2118, 'tells': 2145, 'death': 540, 'snake': 2002, 'bite': 250, 'overcome': 1483, 'grief': 973, 'resolves': 1800, 'bring': 282, 'hades': 991, 'led': 1233, 'hope': 1051, 'speranza': 2031, 'gates': 929, 'hell': 1025, 'leaves': 1231, 'river': 1843, 'styx': 2078, 'boatman': 263, 'charon': 364, 'possente': 1604, 'spirto': 2034, 'formidabil': 893, 'nume': 1437, 'powerful': 1612, 'spirit': 2032, 'formidable': 894, 'god': 957, 'pities': 1562, 'does': 649, 'let': 1239, 'cross': 502, 'singing': 1982, 'falls': 812, 'deep': 552, 'sleep': 1996, 'takes': 2127, 'oars': 1444, 'crosses': 503, 'proserpine': 1670, 'proserpina': 1669, 'heard': 1015, 'music': 1398, 'begs': 222, 'husband': 1068, 'pluto': 1584, 'allow': 67, 'return': 1812, 'earth': 688, 'agrees': 53, 'condition': 439, 'leads': 1223, 'underworld': 2239, 'looking': 1264, 'journey': 1166, 'home': 1047, 'begins': 221, 'doubt': 663, 'hearing': 1016, 'sound': 2018, 'turns': 2223, 'vanishes': 2269, 'eyes': 798, 'continues': 473, 'accompanied': 14, 'lamentations': 1204, 'chorus': 381, 'pours': 1609, 'forth': 895, 'answered': 93, 'echo': 695, 'vows': 2293, 'renounce': 1777, 'women': 2349, 'father': 821, 'apollo': 97, 'descends': 585, 'skies': 1991, 'order': 1463, 'console': 463, 'ascend': 144, 'heavens': 1021, 'sun': 2094, 'stars': 2050, 'stands': 2049, 'tomb': 2178, 'lost': 1269, 'coming': 415, 'senses': 1921, 'rescue': 1789, 'amor': 78, 'comforts': 414, 'telling': 2144, 'imposes': 1096, 'conditions': 440, 'leading': 1222, 'hand': 995, 'look': 1263, 'reached': 1714, 'surface': 2102, 'approaches': 107, 'furies': 913, 'sing': 1979, 'cerberus': 349, 'headed': 1014, 'guard': 980, 'dog': 651, 'beauty': 215, 'finally': 853, 'elicits': 703, 'compassion': 429, 'safe': 1870, 'passage': 1517, 'arrives': 140, 'elysium': 708, '1774': 2, 'version': 2275, 'famous': 817, 'dance': 527, 'blessed': 254, 'spirits': 2033, 'surrounds': 2106, 'emptiness': 718, 'brought': 290, 'blindfolded': 257, 'prepare': 1627, 'leave': 1230, 'path': 1523, 'reproaches': 1787, 'coldness': 404, 'suggests': 2087, 'preferable': 1624, 'unable': 2229, 'bear': 211, 'laments': 1205, 'dies': 620, 'prevented': 1636, 'killing': 1184, 'bringing': 283, 'life': 1245, 'reunites': 1816, 'lovers': 1275, 'opera': 1459, 'ends': 729, 'melodrama': 1332, 'introduction': 1140, 'melodrame': 1333, 'opens': 1458, 'work': 2354, 'public': 1678, 'opinion': 1461, 'explains': 788, 'guardian': 982, 'morality': 1379, 'qui': 1701, 'suis': 2089, 'je': 1156, 'du': 676, 'théâtre': 2166, 'antique': 95, 'seeks': 1911, 'rework': 1827, 'story': 2063, 'orphée': 1474, 'despite': 598, 'wife': 2334, 'hate': 1007, 'moral': 1378, 'tale': 2129, 'ages': 49, 'cut': 519, 'shepherd': 1951, 'aristée': 121, 'aristaeus': 120, 'lives': 1255, 'door': 658, 'la': 1198, 'femme': 837, 'dont': 656, 'le': 1218, 'coeur': 401, 'rêve': 1862, 'chloë': 376, 'shepherdess': 1952, 'mistakes': 1357, 'comes': 410, 'insists': 1120, 'break': 276, 'fearing': 827, 'reaction': 1716, 'torments': 2180, 'keeping': 1177, 'scandal': 1888, 'quiet': 1702, 'using': 2266, 'violin': 2282, 'hates': 1008, 'meet': 1329, 'fact': 799, 'pluton': 1585, 'disguise': 632, 'pastoral': 1522, 'awful': 190, 'sheep': 1949, 'moi': 1363, 'originally': 1469, 'played': 1575, 'female': 836, 'impersonator': 1093, 'contains': 469, 'numerous': 1438, 'falsetto': 814, 'notes': 1433, 'discovered': 630, 'thinks': 2157, 'plot': 1581, 'kill': 1182, 'conspiracy': 465, 'tricks': 2204, 'walking': 2303, 'trap': 2196, 'showing': 1963, 'immunity': 1091, 'transforms': 2194, 'true': 2212, 'form': 892, 'transformation': 2192, 'scene': 1892, 'finds': 855, 'bad': 195, 'mort': 1381, 'apparaît': 99, 'souriante': 2019, 'keeps': 1178, 'verse': 2274, 'descend': 583, 'soon': 2012, 'left': 1234, 'note': 1432, 'unavoidably': 2230, 'detained': 605, 'descent': 586, 'going': 961, 'catches': 334, 'threatens': 2161, 'ruin': 1858, 'teaching': 2138, 'career': 321, 'unless': 2251, 'goes': 960, 'reluctantly': 1763, 'changes': 357, 'olympus': 1455, 'gods': 959, 'boredom': 271, 'dormons': 660, 'things': 2154, 'bit': 249, 'interesting': 1133, 'diane': 612, 'diana': 611, 'returns': 1814, 'gossiping': 967, 'actaeon': 24, 'current': 516, 'quand': 1695, 'dans': 531, 'plaine': 1567, 'jupiter': 1174, 'shocked': 1957, 'behaviour': 225, 'supposedly': 2100, 'virgin': 2283, 'goddess': 958, 'turned': 2221, 'stag': 2043, 'reveals': 1820, 'pleasures': 1580, 'revolt': 1824, 'horrid': 1054, 'ambrosia': 74, 'hideous': 1037, 'nectar': 1418, 'sheer': 1950, 'aux': 182, 'armes': 124, 'dieux': 622, 'et': 762, 'demi': 565, 'demands': 564, 'know': 1193, 'lead': 1219, 'point': 1589, 'hypocrisy': 1072, 'great': 970, 'length': 1235, 'describing': 588, 'poking': 1592, 'fun': 911, 'mythological': 1403, 'affairs': 45, 'little': 1252, 'progress': 1655, 'news': 1426, 'forces': 883, 'best': 240, 'worried': 2356, 'forced': 882, 'quotation': 1704, 'gluck': 956, 'orfeo': 1467, 'ed': 697, 'sends': 1919, 'tears': 2139, 'announces': 91, 'sort': 2016, 'beg': 217, 'come': 409, 'consents': 460, 'mass': 1319, 'breaks': 278, 'holiday': 1046, 'gloire': 953, 'kept': 1179, 'locked': 1259, 'finding': 854, 'dull': 678, 'gaoler': 925, 'witted': 2347, 'tippler': 2172, 'john': 1162, 'helping': 1027, 'particularly': 1512, 'habit': 989, 'slightest': 1999, 'provocation': 1677, 'king': 1186, 'beotians': 236, 'died': 619, 'étais': 2382, 'roi': 1848, 'béotie': 302, 'spots': 2037, 'hid': 1034, 'whilst': 2331, 'shown': 1964, 'slips': 2000, 'keyhole': 1181, 'turning': 2222, 'beautiful': 214, 'golden': 962, 'fly': 876, 'meets': 1331, 'duet': 677, 'consists': 462, 'entirely': 748, 'buzzing': 300, 'bel': 227, 'insecte': 1118, 'aile': 57, 'dorée': 661, 'promises': 1659, 'help': 1026, 'largely': 1209, 'wants': 2307, 'shifts': 1955, 'huge': 1062, 'party': 1513, 'having': 1010, 'propriety': 1668, 'seen': 1912, 'vive': 2289, 'vin': 2280, 'sneaks': 2004, 'disguised': 633, 'bacchante': 192, 'ai': 55, 'vu': 2295, 'dieu': 621, 'bacchus': 193, 'plan': 1569, 'sneak': 2003, 'interrupted': 1137, 'calls': 308, 'unfortunately': 2242, 'minuets': 1351, 'boring': 272, 'menuet': 1338, 'est': 761, 'vraiment': 2294, 'si': 1968, 'charmant': 362, 'liven': 1254, 'number': 1436, 'operetta': 1460, 'galop': 922, 'infernal': 1109, 'known': 1196, 'starts': 2051, 'throws': 2163, 'wild': 2335, 'abandon': 5, 'ce': 338, 'bal': 196, 'original': 1468, 'ominous': 1456, 'heralds': 1031, 'approach': 105, 'entrance': 749, 'away': 189, 'standard': 2048, 'myth': 1402, 'll': 1257, 'lose': 1266, 'forever': 886, 'ne': 1413, 'regarde': 1746, 'pas': 1514, 'en': 719, 'arrière': 141, 'close': 395, 'eye': 796, 'cheating': 370, 'lightning': 1247, 'bolt': 267, 'making': 1300, 'jump': 1172, 'happily': 1000, 'reprise': 1786, 'maghreb': 1292, 'princes': 1642, 'amida': 77, 'ormindo': 1470, 'assisting': 156, 'defense': 556, 'mauretania': 1322, 'erisbe': 754, 'unhappily': 2243, 'married': 1313, 'hariadeno': 1005, 'fessa': 839, 'elderly': 701, 'agree': 51, 'remain': 1764, 'friends': 909, 'test': 2148, 'course': 488, 'plotting': 1583, 'amore': 79, 'princess': 1643, 'sicle': 1969, 'abandoned': 6, 'lover': 1274, 'erice': 753, 'nurse': 1440, 'interfere': 1134, 'contest': 470, 'stages': 2045, 'séance': 2122, 'communicate': 425, 'dead': 538, 'inconstancy': 1099, 'driven': 674, 'suicide': 2088, 'remorse': 1772, 'realizes': 1724, 'loves': 1276, 'overjoyed': 1486, 'revealed': 1818, 'actually': 25, 'alive': 65, 'ghost': 937, 'decide': 544, 'elope': 704, 'tunis': 2217, 'defend': 555, 'homeland': 1048, 'attack': 164, 'discovers': 631, 'adultery': 40, 'orders': 1464, 'captain': 316, 'osmano': 1476, 'poisoned': 1591, 'substitutes': 2079, 'sleeping': 1997, 'potion': 1608, 'poison': 1590, 'urging': 2262, 'mirinda': 1352, 'confidante': 447, 'promised': 1658, 'marry': 1315, 'spares': 2022, 'learns': 1228, 'son': 2009, 'youthful': 2375, 'liaison': 1242, 'forgives': 890, 'cedes': 339, 'kingdom': 1187, 'hercules': 1032, 'ercole': 752, 'persuaded': 1541, 'jason': 1155, 'giasone': 940, 'betrothed': 242, 'hypsipyle': 1073, 'isifile': 1148, 'continue': 471, 'quest': 1699, 'fleece': 864, 'colchis': 402, 'queen': 1698, 'medea': 1327, 'realizing': 1725, 'identity': 1077, 'rejects': 1749, 'aegeus': 43, 'egeo': 700, 'orestes': 1466, 'oreste': 1465, 'friend': 908, 'tries': 2206, 'unsuccessfully': 2255, 'examine': 772, 'demo': 566, 'stuttering': 2076, 'servant': 1932, 'delight': 559, 'identifies': 1076, 'mother': 1384, 'children': 375, 'employing': 717, 'supernatural': 2095, 'powers': 1614, 'invokes': 1145, 'dell': 562, 'antro': 96, 'magico': 1294, 'assist': 154, 'waits': 2301, 'learning': 1227, 'captures': 319, 'monsters': 1371, 'wreck': 2360, 'ship': 1956, 'island': 1149, 'ensure': 742, 'appears': 103, 'denies': 569, 'knowledge': 1195, 'claims': 389, 'mad': 1288, 'jealous': 1157, 'besso': 239, 'guards': 983, 'carry': 325, 'murder': 1393, 'wrong': 2364, 'sea': 1899, 'instead': 1121, 'saved': 1883, 'acknowledge': 22, 'fidelity': 845, 'swears': 2116, 'revenge': 1822, 'sleeps': 1998, 'attempts': 172, 'stopped': 2060, 'seeing': 1908, 'told': 2177, 'encourages': 725, 'refuses': 1743, 'lament': 1203, 'infelice': 1108, 'che': 368, 'ascolto': 146, 'wins': 2339, 'joyful': 1170, 'reconciliation': 1739, 'sorceress': 2014, 'médée': 1404, 'corinth': 479, 'siege': 1970, 'thessaliens': 2152, 'creon': 497, 'créon': 510, 'allied': 66, 'orontes': 1472, 'oronte': 1471, 'prince': 1641, 'argos': 112, 'promising': 1660, 'daughter': 534, 'creusa': 499, 'créuse': 511, 'rightly': 1835, 'suspects': 2110, 'loving': 1277, 'asked': 147, 'people': 1531, 'fear': 825, 'presence': 1631, 'proceeds': 1650, 'encourage': 723, 'warns': 2315, 'emerges': 712, 'blessing': 255, 'infuses': 1114, 'robe': 1844, 'enters': 745, 'wearing': 2325, 'taken': 2126, 'effect': 699, 'crontes': 501, 'place': 1564, 'marries': 1314, 'arrest': 133, 'magic': 1293, 'drive': 673, 'restore': 1805, 'sanity': 1876, 'killed': 1183, 'vengeance': 2272, 'makes': 1299, 'begin': 219, 'dying': 682, 'mocked': 1361, 'destruction': 604, 'palace': 1497, 'jove': 1167, 'giove': 945, 'mercury': 1340, 'mercurio': 1339, 'visiting': 2286, 'arcadia': 109, 'sees': 1913, 'nymph': 1441, 'callisto': 307, 'follower': 878, 'hunt': 1065, 'seduce': 1906, 'resists': 1797, 'advances': 41, 'succumbs': 2084, 'disguises': 634, 'real': 1721, 'vow': 2292, 'chastity': 367, 'boy': 275, 'endymion': 731, 'endimione': 728, 'supported': 2098, 'lymphea': 1284, 'linfea': 1248, 'secretly': 1904, 'yearns': 2368, 'spurns': 2039, 'young': 2373, 'satyr': 1879, 'mount': 1385, 'lycaeus': 1282, 'moon': 1373, 'symbol': 2119, 'covers': 493, 'kisses': 1188, 'awakes': 188, 'infidelity': 1110, 'juno': 1173, 'secret': 1903, 'pan': 1501, 'forest': 885, 'long': 1260, 'desired': 592, 'persecuted': 1535, 'satyrs': 1880, 'turn': 2220, 'command': 416, 'outraged': 1480, 'sadly': 1869, 'confesses': 444, 'live': 1253, 'rest': 1804, 'eventually': 768, 'raise': 1708, 'rescues': 1791, 'kissing': 1189, 'extent': 794, 'celebrate': 341, 'ascension': 145, 'dido': 616, 'carthage': 327, 'admit': 37, 'trojan': 2209, 'aeneas': 44, 'guest': 984, 'court': 489, 'resume': 1810, 'search': 1901, 'site': 1989, 'new': 1424, 'city': 386, 'replace': 1782, 'troy': 2211, 'belinda': 230, 'courtiers': 491, 'persuade': 1540, 'speak': 2027, 'act': 23, 'general': 933, 'rejoicing': 1751, 'witches': 2344, 'downfall': 664, 'conjure': 455, 'storm': 2062, 'force': 881, 'refuge': 1741, 'cave': 337, 'elf': 702, 'remind': 1769, 'duties': 680, 'spent': 2030, 'night': 1427, 'entertained': 746, 'grove': 979, 'courtier': 490, 'arises': 119, 'separated': 1925, 'commanded': 417, 'false': 813, 'quayside': 1697, 'men': 1336, 'preparing': 1630, 'gloat': 952, 'victory': 2278, 'informed': 1112, 'planned': 1571, 'departure': 576, 'counsel': 482, 'confronts': 452, 'silences': 1977, 'excuses': 775, 'dismisses': 635, 'laid': 1202, 'kills': 1185, 'cupids': 514, 'mourn': 1388, 'scattering': 1890, 'roses': 1854, 'greek': 971, 'camp': 310, 'plains': 1568, 'trojans': 2210, 'greeks': 972, 'departed': 574, '10': 0, 'years': 2369, 'war': 2308, 'drag': 665, 'wooden': 2351, 'horse': 1057, 'cassandre': 329, 'priam': 1638, 'gifted': 942, 'prophecy': 1665, 'fears': 828, 'fall': 809, 'knows': 1197, 'chorèbe': 382, 'doomed': 657, 'grieves': 977, 'mind': 1346, 'gift': 941, 'carries': 324, 'curse': 517, 'believed': 228, 'urges': 2261, 'join': 1163, 'late': 1210, 'royal': 1857, 'family': 816, 'joins': 1165, 'thanking': 2149, 'deliverance': 561, 'énée': 2381, 'strange': 2065, 'tidings': 2167, 'fate': 820, 'priest': 1640, 'laocon': 1208, 'bearing': 212, 'gifts': 943, 'trying': 2215, 'urge': 2259, 'destroy': 601, 'serpents': 1931, 'emerged': 711, 'devoured': 610, 'wrath': 2359, 'concluded': 436, 'punished': 1683, 'sacrilege': 1866, 'make': 1298, 'offerings': 1451, 'appease': 104, 'watches': 2318, 'helpless': 1028, 'crying': 509, 'hector': 1023, 'flee': 863, 'italy': 1150, 'destined': 599, 'nation': 1409, 'panthée': 1504, 'runs': 1860, 'wounded': 2358, 'carrying': 326, 'sacred': 1863, 'images': 1085, 'burst': 295, 'destroying': 603, 'fight': 849, 'joined': 1164, 'ascagne': 143, 'praying': 1619, 'escape': 757, 'prepares': 1629, 'exhorts': 779, 'surrounded': 2104, 'didon': 617, 'celebrates': 343, 'seventh': 1941, 'anniversary': 90, 'founding': 900, 'tyre': 2226, 'sister': 1986, 'anna': 87, 'think': 2155, 'memory': 1335, 'symbolised': 2120, 'ring': 1837, 'wears': 2326, 'poet': 1588, 'iopas': 1146, 'tossed': 2185, 'travellers': 2197, 'seeking': 1910, 'grants': 968, 'trials': 2200, 'nèe': 1443, 'sailor': 1873, 'asks': 149, 'asylum': 161, 'offering': 1450, 'riches': 1830, 'leader': 1220, 'destiny': 600, 'glorious': 954, 'welcomes': 2329, 'minister': 1350, 'narbal': 1408, 'brings': 284, 'iarbas': 1074, 'fierce': 847, 'numidians': 1439, 'suit': 2090, 'refused': 1742, 'attacking': 166, 'strong': 2071, 'withstand': 2345, 'offers': 1452, 'assistance': 155, 'protection': 1673, 'carthaginians': 328, 'battle': 209, 'defeated': 554, 'longer': 1261, 'attends': 174, 'state': 2052, 'spends': 2029, 'time': 2169, 'hunting': 1066, 'feasting': 830, 'concerned': 434, 'knowing': 1194, 'problem': 1647, 'feeling': 832, 'equally': 751, 'bound': 274, 'delighted': 560, 'happiness': 1001, 'appear': 101, 'songs': 2011, 'ballets': 200, 'simpler': 1978, 'hymn': 1071, 'ceres': 351, 'taste': 2134, 'tell': 2143, 'andromache': 83, 'widow': 2333, 'horrified': 1055, 'learn': 1226, 'captor': 317, 'pyrrhus': 1694, 'achilles': 20, 'feels': 833, 'way': 2320, 'absolved': 10, 'unheeded': 2244, 'playfully': 1576, 'removes': 1774, 'finger': 856, 'confess': 443, 'consummate': 468, 'moonlit': 1375, 'garden': 926, 'strikes': 2070, 'shield': 1954, 'shouts': 1962, 'hylas': 1070, 'asleep': 150, 'leaders': 1221, 'ghosts': 938, 'portents': 1602, 'warning': 2313, 'expect': 783, 'minded': 1347, 'sentries': 1924, 'desire': 591, 'girls': 947, 'comfort': 411, 'grieved': 976, 'suffering': 2086, 'remains': 1766, 'firm': 861, 'resolve': 1799, 'bid': 244, 'farewell': 819, 'strengthened': 2069, 'appearance': 102, 'answer': 92, 'explanations': 789, 'duty': 681, 'curses': 518, 'plead': 1578, 'guilt': 987, 'encouraged': 724, 'assures': 160, 'sailed': 1872, 'distraught': 643, 'intention': 1130, 'sacrificing': 1865, 'intending': 1127, 'pyre': 1693, 'built': 293, 'placed': 1565, 'lit': 1251, 'mounts': 1387, 'stabs': 2042, 'vision': 2284, 'glory': 955, 'rome': 1852, 'invisible': 1142, 'bystanders': 301, 'prophesying': 1666, 'hannibal': 998, 'avenge': 183, 'wrongs': 2365, 'romans': 1851, 'race': 1705, 'background': 194, 'castor': 332, 'pollux': 1595, 'heroes': 1033, 'twin': 2224, 'brothers': 289, 'immortal': 1089, 'mortal': 1382, 'telaira': 2140, 'télaïre': 2227, 'twins': 2225, 'fought': 899, 'enemy': 732, 'lynceus': 1285, 'lyncée': 1286, 'resulted': 1809, 'disaster': 627, 'slain': 1992, 'funeral': 912, 'rites': 1841, 'expresses': 791, 'phoebe': 1551, 'phébé': 1554, 'tristes': 2207, 'apprêts': 108, 'rameau': 1709, 'arias': 116, 'band': 201, 'spartan': 2025, 'warriors': 2316, 'interrupt': 1136, 'mourning': 1389, 'body': 264, 'avoids': 185, 'giving': 950, 'reply': 1784, 'asking': 148, 'conflicting': 449, 'emotions': 715, 'aria': 115, 'nature': 1411, 'amour': 80, 'partagez': 1510, 'mon': 1366, 'says': 1887, 'manages': 1303, 'brother': 287, 'chance': 355, 'yields': 2372, 'pleas': 1579, 'replies': 1783, 'powerless': 1613, 'alter': 71, 'laws': 1216, 'save': 1882, 'despairing': 595, 'win': 2337, 'decides': 546, 'dissuade': 638, 'ballet': 199, 'celestial': 347, 'hebe': 1022, 'youth': 2374, 'resolute': 1798, 'stage': 2044, 'shows': 1965, 'guarded': 981, 'demons': 567, 'gathers': 930, 'spartans': 2026, 'prevent': 1635, 'entering': 744, 'gate': 928, 'dissuaded': 639, 'declares': 549, 'realises': 1722, 'unrequited': 2253, 'stop': 2059, 'sortez': 2017, 'esclavage': 760, 'combattez': 408, 'démons': 683, 'furieux': 914, 'fights': 851, 'elysian': 707, 'séjours': 2123, 'éternelle': 2383, 'paix': 1496, 'surroundings': 2105, 'loss': 1268, 'happy': 1002, 'amazed': 73, 'sacrifice': 1864, 'opportunity': 1462, 'revisit': 1823, 'land': 1206, 'living': 1256, 'day': 536, 'sparta': 2024, 'good': 965, 'commits': 423, 'plans': 1572, 'single': 1983, 'bitterly': 251, 'accuses': 19, 'loved': 1271, 'deus': 608, 'ex': 771, 'machina': 1287, 'dilemma': 624, 'immortality': 1090, 'fête': 919, 'univers': 2247, 'festival': 840, 'universe': 2248, 'planets': 1570, 'decision': 547, 'received': 1732, 'zodiac': 2380, 'constellation': 466, 'gemini': 932, 'prologue': 1656, 'european': 764, 'nations': 1410, 'follow': 877, 'bellona': 231, 'cupid': 513, 'minions': 1349, 'furthest': 916, 'corners': 480, 'indies': 1102, 'seek': 1909, 'create': 494, 'followers': 879, 'entrée': 750, 'generous': 934, 'turk': 2219, 'french': 905, 'girl': 946, 'emile': 714, 'captured': 318, 'sold': 2006, 'slave': 1993, 'pasha': 1515, 'osman': 1475, 'forget': 887, 'valère': 2268, 'aground': 54, 'recognizes': 1738, 'liberated': 1243, 'slavery': 1994, 'releases': 1756, 'ii': 1081, 'incas': 1098, 'peru': 1543, 'peruvian': 1544, 'desert': 589, 'shadow': 1943, 'volcano': 2291, 'spanish': 2021, 'officer': 1453, 'don': 653, 'carlos': 322, 'phani': 1546, 'fallen': 810, 'high': 1041, 'huascar': 1061, 'disapproves': 626, 'causes': 335, 'erupt': 756, 'claiming': 388, 'sign': 1971, 'displeasure': 637, 'wise': 2340, 'deception': 543, 'escapes': 759, 'leaving': 1232, 'head': 1013, 'ill': 1082, 'flowers': 874, 'persian': 1538, 'tacmas': 2125, 'confidant': 446, 'ali': 64, 'slaves': 1995, 'zaïre': 2376, 'fatima': 823, 'flower': 873, 'withtacmas': 2346, 'woman': 2348, 'man': 1301, 'confusion': 453, 'master': 1320, 'swap': 2114, 'engineered': 733, 'couples': 487, 'enjoy': 735, 'iv': 1152, 'savages': 1881, 'american': 76, 'adario': 26, 'commander': 418, 'tribe': 2201, 'indians': 1100, 'peace': 1527, 'victorious': 2277, 'europeans': 765, 'zima': 2378, 'chief': 373, 'spaniard': 2020, 'alvar': 72, 'frenchman': 906, 'damon': 526, 'indifferent': 1103, 'chooses': 379, 'festivities': 841, 'culminate': 512, 'pipe': 1560, 'chaste': 366, 'argue': 113, 'dominate': 652, 'quarrel': 1696, 'settled': 1940, 'decrees': 551, 'rule': 1859, 'hearts': 1020, 'year': 2367, 'protect': 1672, 'mortals': 1383, 'hippolytus': 1044, 'hippolyte': 1043, 'aricia': 117, 'aricie': 118, 'pallas': 1498, 'theseus': 2151, 'thésée': 2165, 'athens': 162, 'compels': 430, 'couple': 486, 'enrages': 739, 'phaedra': 1545, 'phèdre': 1553, 'harbours': 1004, 'illicit': 1083, 'stepson': 2057, 'pursue': 1686, 'passion': 1518, 'offer': 1449, 'crown': 505, 'neptune': 1419, 'prayers': 1618, 'times': 2170, 'prayer': 1617, 'reach': 1713, 'safely': 1871, 'hopes': 1052, 'pirithous': 1561, 'fury': 917, 'tisiphone': 2173, 'successfully': 2083, 'reaches': 1715, 'condemns': 438, 'allows': 69, 'trial': 2199, 'loses': 1267, 'prays': 1620, 'second': 1902, 'hold': 1045, 'les': 1237, 'parques': 1509, 'predict': 1622, 'condolences': 441, 'mistaking': 1358, 'concern': 433, 'prevents': 1637, 'unexpectedly': 2240, 'unsure': 2256, 'rape': 1711, 'rushes': 1861, 'nobly': 1429, 'denounce': 571, 'stepmother': 2056, 'use': 2263, 'punish': 1682, 'escaped': 758, 'realm': 1727, 'monster': 1370, 'suddenly': 2085, 'truth': 2213, 'thanks': 2150, 'unjustly': 2249, 'blaming': 253, 'condemned': 437, 'buoso': 294, 'donati': 654, 'just': 1175, 'relatives': 1754, 'money': 1367, 'monks': 1368, 'rinuccio': 1838, 'till': 2168, 'aunt': 181, 'zita': 2379, 'lauretta': 1214, 'gianni': 939, 'schicchi': 1894, 'read': 1717, 'ingenuity': 1115, 'resent': 1792, 'upstart': 2258, 'resenting': 1793, 'attitude': 177, 'appeals': 100, 'depends': 577, 'outside': 1481, 'summons': 2093, 'lawyer': 1217, 'dictates': 614, 'particular': 1511, 'properties': 1664, 'requested': 1788, 'reserves': 1794, 'prize': 1646, 'items': 1151, 'house': 1060, 'mule': 1392, 'signa': 1972, 'furious': 915, 'reminds': 1770, 'penalty': 1530, 'falsifying': 815, 'right': 1834, 'chopped': 380, 'banishment': 203, 'florence': 871, 'chases': 365, 'addresses': 31, 'audience': 180, 'begging': 218, 'indulgence': 1107, 'sins': 1985, 'produced': 1653, 'result': 1808, 'vainly': 2267, 'try': 2214, 'warm': 2310, 'rodolfo': 1847, 'painter': 1494, 'marcello': 1307, 'philosopher': 1548, 'colline': 407, 'stove': 2064, 'musician': 1399, 'schaunard': 1893, 'luck': 1278, 'food': 880, 'firewood': 860, 'saving': 1885, 'eating': 692, 'christmas': 383, 'eve': 767, 'landlord': 1207, 'benoit': 235, 'rent': 1779, 'pay': 1525, 'ply': 1586, 'drink': 671, 'steal': 2055, 'admits': 38, 'unfaithful': 2241, 'pretend': 1633, 'indignation': 1104, 'throw': 2162, 'set': 1937, 'cafe': 304, 'momus': 1365, 'article': 142, 'finish': 857, 'shortly': 1960, 'mimi': 1345, 'knocks': 1192, 'light': 1246, 'candle': 311, 'faints': 803, 'struck': 2072, 'pallor': 1499, 'relights': 1759, 'key': 1180, 'candles': 312, 'moonlight': 1374, 'quietly': 1703, 'pockets': 1587, 'cold': 403, 'seamstress': 1900, 'mutual': 1400, 'attraction': 179, 'revellers': 1821, 'hawkers': 1012, 'buys': 299, 'bonnet': 268, 'bohemians': 266, 'table': 2124, 'shrill': 1966, 'laugh': 1212, 'musetta': 1397, 'admirer': 34, 'alcindoro': 61, 'ignore': 1079, 'determined': 606, 'attract': 178, 'attention': 175, 'exhuberant': 780, 'behavior': 224, 'trick': 2202, 'gets': 936, 'rid': 1831, 'embarrassed': 709, 'sending': 1918, 'shoe': 1958, 'fixed': 862, 'arms': 127, 'waiter': 2299, 'add': 27, 'bohemian': 265, 'inn': 1116, 'inside': 1119, 'snow': 2005, 'explaining': 787, 'jealousy': 1158, 'spoiling': 2035, 'relationship': 1753, 'better': 243, 'hides': 1038, 'listens': 1250, 'watch': 2317, 'helplessly': 1029, 'suppress': 2101, 'flirting': 870, 'bids': 245, 'stay': 2054, 'spring': 2038, 'fighting': 850, 'exchange': 773, 'insults': 1125, 'attempting': 171, 'write': 2361, 'paint': 1493, 'distracted': 642, 'thoughts': 2159, 'absent': 9, 'arrive': 138, 'meagre': 1323, 'provisions': 1676, 'sit': 1988, 'cheerfully': 371, 'feast': 829, 'enlivening': 737, 'occasion': 1447, 'horseplay': 1058, 'climb': 393, 'stairs': 2046, 'wandering': 2304, 'streets': 2067, 'wanting': 2306, 'die': 618, 'carried': 323, 'comfortable': 412, 'absorbed': 11, 'lack': 1199, 'medicines': 1328, 'gives': 949, 'earnings': 687, 'buy': 298, 'muff': 1391, 'hands': 996, 'pawn': 1524, 'old': 1454, 'coat': 400, 'relive': 1761, 'meeting': 1330, 'past': 1521, 'lieutenant': 1244, 'benjamin': 234, 'franklin': 901, 'pinkerton': 1559, 'navy': 1412, 'japanese': 1154, 'cio': 385, 'san': 1874, 'madama': 1289, 'butterfly': 297, 'future': 918, 'hill': 1042, 'overlooking': 1487, 'nagasaki': 1405, 'harbor': 1003, 'broker': 286, 'goro': 966, 'provided': 1675, 'bride': 280, 'consul': 467, 'sharpless': 1947, 'wedding': 2328, 'contract': 474, 'lease': 1229, '99': 4, 'terminable': 2147, 'short': 1959, 'notice': 1434, 'arrangment': 132, 'convenient': 475, 'philosophy': 1550, 'world': 2355, 'free': 902, 'port': 1601, 'settle': 1939, 'proper': 1662, 'disturbed': 646, 'creed': 496, 'warn': 2311, 'hurting': 1067, 'relations': 1752, 'poverty': 1610, 'geisha': 931, '15': 1, 'possessions': 1605, 'shrinks': 1967, 'whispers': 2332, 'dagger': 524, 'emperor': 716, 'mission': 1355, 'wishing': 2342, 'adopt': 39, 'religion': 1760, 'performed': 1532, 'celebrations': 345, 'uncle': 2233, 'bonze': 269, 'buddhist': 291, 'denounces': 572, 'betraying': 241, 'ancestors': 82, 'flees': 866, 'horror': 1056, 'comforted': 413, 'impassioned': 1092, 'enter': 743, 'later': 1211, 'waiting': 2300, 'faithfully': 806, 'company': 427, 'suzuki': 2113, 'letter': 1240, 'intend': 1126, 'aks': 58, 'robins': 1845, 'nest': 1422, 'america': 75, 'nested': 1423, 'japan': 1153, 'different': 623, 'habits': 990, 'eavesdropping': 694, 'laughs': 1213, 'complains': 431, 'hanging': 997, 'suitors': 2091, 'rich': 1829, 'yamadori': 2366, 'person': 1539, 'seriously': 1930, 'considers': 461, 'properly': 1663, 'according': 16, 'law': 1215, 'interrupting': 1138, 'eager': 684, 'comments': 421, 'questions': 1700, 'realising': 1723, 'doesn': 650, 'sense': 1920, 'answers': 94, 'choose': 378, 'angry': 86, 'child': 374, 'born': 273, 'existence': 782, 'drags': 667, 'saying': 1886, 'baby': 191, 'attacks': 167, 'calms': 309, 'scuttles': 1897, 'gun': 988, 'denoting': 570, 'telescope': 2142, 'preparations': 1626, 'receive': 1731, 'decorate': 550, 'wait': 2298, 'morning': 1380, 'dawn': 535, 'awake': 187, 'rouse': 1855, 'surprised': 2103, 'expected': 784, 'warned': 2312, 'ago': 50, 'taking': 2128, 'ceremony': 350, 'kate': 1176, 'breaking': 277, 'adding': 29, 'willing': 2336, 'thing': 2153, 'easier': 690, 'eagerly': 685, 'bedroom': 216, 'expecting': 785, 'reluctant': 1762, 'broken': 285, 'hearted': 1019, 'blow': 261, 'store': 2061, 'understanding': 2237, 'half': 994, 'hour': 1059, 'understands': 2238, 'intends': 1128, 'play': 1574, 'commit': 422, 'ritual': 1842, 'pushes': 1691, 'room': 1853, 'hoping': 1053, 'distract': 641, 'passionate': 1519, 'blindfolds': 258, 'feet': 834, 'calling': 306, 'group': 978, 'students': 2074, 'drinking': 672, 'mingles': 1348, 'townspeople': 2188, 'student': 2073, 'des': 582, 'grieux': 974, 'chaffing': 352, 'edmondo': 698, 'pangs': 1503, 'humor': 1064, 'accosts': 17, 'prove': 1674, 'ignite': 1078, 'spark': 2023, 'coach': 399, 'depositing': 581, 'manon': 1305, 'lescaut': 1238, 'geronte': 935, 'tax': 2136, 'collector': 406, 'seizes': 1914, 'address': 30, 'sent': 1922, 'convent': 476, 'grieuz': 975, 'rhapsodises': 1828, 'fellow': 835, 'amused': 81, 'brief': 281, 'conversation': 477, 'beginning': 220, 'understand': 2236, 'main': 1296, 'obviously': 1446, 'interested': 1132, 'invites': 1143, 'supper': 2096, 'game': 923, 'cards': 320, 'arrangement': 130, 'innkeeper': 1117, 'ready': 1719, 'abduct': 7, 'overheard': 1484, 'outwit': 1482, 'reappears': 1728, 'gone': 963, 'respond': 1802, 'declaration': 548, 'intentions': 1131, 'urged': 2260, 'happened': 999, 'rage': 1706, 'philosophical': 1549, 'consoling': 464, 'account': 18, 'character': 359, 'poor': 1599, 'fatherly': 822, 'assured': 159, 'added': 28, 'menage': 1337, 'putting': 1692, 'finishing': 858, 'touches': 2187, 'stylish': 2077, 'toilette': 2176, 'congratulates': 454, 'architect': 110, 'scenario': 1891, 'present': 1632, 'position': 1603, 'tracked': 2190, 'lured': 1279, 'dazzling': 537, 'wealth': 2323, 'misses': 1354, 'prefer': 1623, 'loveless': 1272, 'fortune': 897, 'cheat': 369, 'singers': 1981, 'serenade': 1926, 'madrigal': 1290, 'written': 2363, 'descides': 587, 'instructed': 1123, 'courtly': 492, 'dancing': 529, 'rapturous': 1712, 'admiration': 33, 'dances': 528, 'ditty': 647, 'pining': 1558, 'outing': 1479, 'sedan': 1905, 'chair': 353, 'faithlessness': 807, 'variety': 2270, 'sorry': 2015, 'did': 615, 'passionately': 1520, 'won': 2350, 'spell': 2028, 'reaffirms': 1720, 'middle': 1344, 'ecstatic': 696, 'reunion': 1815, 'mirror': 1353, 'compare': 428, 'departs': 575, 'depart': 573, 'regret': 1748, 'luxury': 1281, 'upbraids': 2257, 'shame': 1945, 'breath': 279, 'police': 1593, 'deportation': 578, 'delays': 558, 'collect': 405, 'jewels': 1159, 'possible': 1606, 'arresting': 135, 'cloak': 394, 'restrains': 1807, 'draws': 668, 'sword': 2117, 'square': 2040, 'near': 1414, 'havre': 1011, 'cell': 348, 'deported': 579, 'nervous': 1421, 'outcome': 1478, 'commotion': 424, 'failed': 800, 'building': 292, 'sergeant': 1928, 'roll': 1849, 'comment': 420, 'freely': 904, 'proceedings': 1649, 'individual': 1106, 'tall': 2131, 'torn': 2181, 'rousing': 1856, 'sympathy': 2121, 'allowed': 68, 'cabin': 303, 'necessary': 1417, 'accepts': 13, 'jovially': 1168, 'want': 2305, 'populate': 1600, 'support': 2097, 'weak': 2321, 'thirst': 2158, 'exhaustion': 778, 'water': 2319, 'sad': 1868, 'unsuccessful': 2254, 'flings': 868, 'angelotti': 85, 'political': 1594, 'prisoner': 1644, 'fortress': 896, 'castel': 331, 'sant': 1877, 'angelo': 84, 'church': 384, 'looks': 1265, 'uses': 2265, 'open': 1457, 'private': 1645, 'chapel': 358, 'sacristan': 1867, 'bustles': 296, 'mario': 1310, 'cavaradossi': 336, 'picture': 1555, 'mary': 1316, 'magdalene': 1291, 'used': 2264, 'model': 1362, 'fair': 804, 'haired': 993, 'frequenting': 907, 'admiring': 35, 'prefers': 1625, 'dark': 532, 'loveliness': 1273, 'mistress': 1359, 'singer': 1980, 'floria': 872, 'tosca': 2184, 'hiding': 1039, 'recognised': 1735, 'revolutionary': 1825, 'advises': 42, 'hide': 1036, 'basket': 208, 'meal': 1324, 'voice': 2290, 'suspicious': 2112, 'entertaining': 747, 'soothes': 2013, 'forward': 898, 'villa': 2279, 'concert': 435, 'painting': 1495, 'aroused': 129, 'recognises': 1736, 'marchesa': 1308, 'attavanti': 168, 'lady': 1201, 'henceforth': 1030, 'eyed': 797, 'emerging': 713, 'clothes': 397, 'hidden': 1035, 'cannon': 313, 'shot': 1961, 'signals': 1974, 'defeat': 553, 'napoleon': 1407, 'choirboys': 377, 'celebratory': 346, 'te': 2137, 'deum': 607, 'riotous': 1839, 'scarpia': 1889, 'agents': 48, 'verifies': 2273, 'suspicions': 2111, 'clue': 398, 'fan': 818, 'dropped': 675, 'returning': 1813, 'cantata': 314, 'disconcerted': 628, 'lustful': 1280, 'plays': 1577, 'easel': 689, 'assignation': 153, 'recognising': 1737, 'crest': 498, 'easily': 691, 'sets': 1938, 'confront': 450, 'supposed': 2099, 'success': 2082, 'eats': 693, 'inviting': 1144, 'visit': 2285, 'agent': 47, 'spoletta': 2036, 'trace': 2189, 'mollified': 1364, 'arrested': 134, 'defies': 557, 'interrogation': 1135, 'means': 1325, 'attempt': 169, 'revealing': 1819, 'whereabouts': 2330, 'resist': 1795, 'cries': 500, 'pain': 1492, 'tortured': 2183, 'information': 1111, 'marengo': 1309, 'exultantly': 795, 'taunts': 2135, 'immediate': 1086, 'execution': 776, 'deaf': 539, 'ear': 686, 'mercy': 1341, 'price': 1639, 'despair': 594, 'revulsion': 1826, 'desirable': 590, 'fake': 808, 'expressing': 792, 'clear': 391, 'conduct': 442, 'writes': 2362, 'notices': 1435, 'knife': 1190, 'embrace': 710, 'distance': 640, 'bells': 232, 'memories': 1334, 'mock': 1360, 'instructs': 1124, 'soldiers': 2007, 'indicate': 1101, 'pursuit': 1689, 'leaps': 1225, 'battlements': 210, 'mandarin': 1304, 'reads': 1718, 'proclamation': 1652, 'turandot': 2218, 'rank': 1710, 'riddles': 1833, 'propounded': 1667, 'fails': 801, 'persia': 1537, 'beheaded': 226, 'moonrise': 1376, 'crowd': 504, 'nearly': 1416, 'tramples': 2191, 'underfoot': 2234, 'blind': 256, 'timur': 2171, 'deposed': 580, 'tartar': 2133, 'li': 1241, 'pity': 1563, 'calaf': 305, 'exile': 781, 'overshadowed': 1488, 'continued': 472, 'persecution': 1536, 'pursuing': 1688, 'guided': 986, 'smiled': 2001, 'longing': 1262, 'rise': 1840, 'balcony': 197, 'signs': 1975, 'proceed': 1648, 'ignoring': 1080, 'arguments': 114, 'ping': 1557, 'pang': 1502, 'pong': 1598, 'swayed': 2115, 'gong': 964, 'signal': 1973, 'challenge': 354, 'remember': 1767, 'wistfully': 2343, 'peaceful': 1528, 'retreats': 1811, 'cruel': 506, 'regime': 1747, 'express': 790, 'yield': 2370, 'end': 726, 'parade': 1507, 'executions': 777, 'prospect': 1671, 'potential': 1607, 'victim': 2276, 'hail': 992, 'weary': 2327, 'bloodshed': 260, 'respectfully': 1801, 'explained': 786, 'aversion': 184, 'based': 206, 'violated': 2281, 'murdered': 1394, 'invader': 1141, 'blood': 259, 'stranger': 2066, 'oath': 1445, 'touched': 2186, 'distress': 644, 'riddle': 1832, 'proclaim': 1651, 'shall': 1944, 'mystery': 1401, 'unknown': 2250, 'solved': 2008, 'repeats': 1780, 'words': 2353, 'confident': 448, 'conquered': 456, 'approached': 106, 'assumed': 157, 'reveal': 1817, 'torture': 2182, 'strength': 2068, 'endure': 730, 'power': 1611, 'feel': 831, 'seizing': 1915, 'offended': 1448, 'pray': 1616, 'harm': 1006, 'stirring': 2058, 'atrophied': 163, 'veil': 2271, 'shed': 1948, 'feared': 826, 'response': 1803, 'admission': 36, 'triumphantly': 2208, 'assembled': 152, 'rejoice': 1750, 'acis': 21, 'galatea': 920, 'galatée': 921, 'companion': 426, 'telemus': 2141, 'téléme': 2228, 'scylla': 1898, 'bemoan': 233, 'joys': 1171, 'cyclops': 522, 'polyphemus': 1597, 'polypheme': 1596, 'berates': 237, 'agreeing': 52, 'attend': 173, 'arranging': 131, 'honour': 1049, 'merely': 1342, 'really': 1726, 'permission': 1534, 'nereus': 1420, 'enraged': 738, 'discover': 629, 'murders': 1396, 'crushing': 508, 'rock': 1846, 'wishes': 2341, 'restores': 1806, 'transforming': 2193, 'uniting': 2246, 'damascus': 525, 'armida': 125, 'armide': 126, 'receives': 1733, 'beguiled': 223, 'crusaders': 507, 'eluded': 705, 'rinaldo': 1836, 'renaud': 1775, 'resistant': 1796, 'charms': 363, 'hidraoth': 1040, 'conqueror': 457, 'freed': 903, 'nearby': 1415, 'countryside': 485, 'enchanted': 721, 'filled': 852, 'transport': 2195, 'reliant': 1758, 'hatred': 1009, 'expunge': 793, 'relents': 1757, 'knights': 1191, 'armed': 123, 'weapons': 2324, 'enable': 720, 'release': 1755, 'fruitlessly': 910, 'implores': 1095, 'rages': 1707, 'mounting': 1386, 'desperation': 596, 'summoning': 2092, 'phrygia': 1552, 'attis': 176, 'awaits': 186, 'cybele': 520, 'cybèle': 521, 'sangaride': 1875, 'celaenus': 340, 'célenus': 523, 'chariot': 360, 'selects': 1916, 'confessing': 445, 'descended': 584, 'instigation': 1122, 'dreamfilled': 669, 'hears': 1017, 'warnings': 2314, 'danger': 530, 'deceive': 542, 'wakes': 2302, 'marriag': 1311, 'suspecting': 2109, 'reassures': 1730, 'places': 1566, 'delusion': 563, 'thinking': 2156, 'regaining': 1745, 'reason': 1729, 'pine': 1556, 'tree': 2198, 'desolation': 593, 'ferrando': 838, 'guglielmo': 985, 'convinced': 478, 'fiordiligi': 859, 'dorabella': 659, 'sisters': 1987, 'alfonso': 63, 'fickle': 844, 'wagers': 2297, 'husbands': 1069, 'enlisted': 736, 'army': 128, 'maid': 1295, 'despina': 597, 'introduce': 1139, 'albanian': 59, 'fiancée': 843, 'pretending': 1634, 'doctor': 648, 'cures': 515, 'albanians': 60, 'yielded': 2371, 'heart': 1018, 'double': 662, 'notary': 1431, 'newlyweds': 1425, 'disappear': 625, 'producing': 1654, 'remonstrate': 1771, 'deceit': 541, 'paying': 1526, 'wager': 2296, 'forgive': 888, 'tamino': 2132, 'rescued': 1790, 'ladies': 1200, 'birdcatcher': 246, 'papageno': 1506, 'credit': 495, 'punishment': 1685, 'lying': 1283, 'padlock': 1490, 'mouth': 1390, 'abducted': 8, 'pamina': 1500, 'falling': 811, 'image': 1084, 'succeeds': 2081, 'given': 948, 'flute': 875, 'sarastro': 1878, 'held': 1024, 'blundering': 262, 'inadvertently': 1097, 'saves': 1884, 'attacked': 165, 'monostatos': 1369, 'moor': 1377, 'service': 1934, 'arrived': 139, 'informs': 1113, 'evil': 769, 'confronted': 451, 'manage': 1302, 'immediately': 1087, 'undergo': 2235, 'series': 1929, 'accepted': 12, 'brotherhood': 288, 'period': 1533, 'silence': 1976, 'warded': 2309, 'regain': 1744, 'forcing': 884, 'fleeting': 867, 'glimpse': 951, 'ideal': 1075, 'mate': 1321, 'papagena': 1505, 'denied': 568, 'aided': 56, 'pass': 1516, 'united': 2245, 'failure': 802, 'maintain': 1297, 'engulfed': 734, 'clap': 390, 'thunder': 2164, 'remainder': 1765, 'cast': 330, 'darkness': 533, 'leporello': 1236, 'giovanni': 944, 'donna': 655, 'commendatore': 419, 'ensuing': 741, 'ottavio': 1477, 'elvira': 706, 'recently': 1734, 'jilted': 1161, 'book': 270, 'conquests': 458, 'names': 1406, '2065': 3, 'recorded': 1740, 'peasant': 1529, 'promptly': 1661, 'charm': 361, 'zerlina': 2377, 'alerts': 62, 'tried': 2205, 'masetto': 1317, 'affections': 46, 'weaken': 2322, 'masks': 1318, 'ball': 198, 'scream': 1895, 'stumbles': 2075, 'blame': 252, 'unmask': 2252, 'publicly': 1679, 'exchanges': 774, 'costume': 481, 'serenades': 1927, 'believing': 229, 'remorseful': 1773, 'gang': 924, 'intent': 1129, 'punishing': 1684, 'murderer': 1395, 'beats': 213, 'graveyard': 969, 'statue': 2053, 'flippantly': 869, 'duly': 679, 'repentance': 1781, 'unbending': 2232, 'dragged': 666, 'screaming': 1896, 'evildoers': 770, 'titus': 2175, 'tito': 2174, 'vitellia': 2287, 'jewish': 1160, 'berenice': 238, 'persuades': 1542, 'sextus': 1942, 'sesto': 1936, 'assassinate': 151, 'decided': 545, 'banish': 202, 'servilia': 1935, 'annius': 89, 'annio': 88, 'renounces': 1778, 'favour': 824, 'vitellla': 2288, 'unaware': 2231, 'change': 356, 'dispatched': 636, 'capitol': 315, 'reports': 1785, 'stabbed': 2041, 'roman': 1850, 'fleeing': 865, 'implicated': 1094, 'publius': 1681, 'publio': 1680, 'arrests': 136, 'complicity': 432, 'remembered': 1768, 'clemency': 392, 'sentence': 1923, 'arena': 111, 'lions': 1249, 'forgiving': 891, 'devote': 609, 'figaro': 848, 'susanna': 2107, 'count': 483, 'almaviva': 70, 'servants': 1933, 'imminent': 1088, 'pursued': 1687, 'bartolo': 205, 'marcellina': 1306, 'promise': 1657, 'loan': 1258, 'page': 1491, 'cherubino': 372, 'countess': 484, 'overhears': 1485, 'attempted': 170, 'seduction': 1907, 'basilio': 207, 'indiscreet': 1105, 'talks': 2130, 'precipitating': 1621, 'packed': 1489, 'distressed': 645, 'philandering': 1547, 'plots': 1582, 'humiliate': 1063, 'rendezvous': 1776, 'send': 1917, 'dressed': 670, 'pushed': 1690, 'adjoining': 32, 'closet': 396, 'noises': 1430, 'fetch': 842, 'tools': 2179, 'meantime': 1326, 'window': 2338, 'apologize': 98, 'irate': 1147, 'gardener': 927, 'leap': 1224, 'destroyed': 602, 'plants': 1573, 'claim': 387, 'honoured': 1050, 'stalls': 2047, 'noble': 1428, 'birth': 247, 'parents': 1508, 'consent': 459, 'birthmark': 248, 'arm': 122, 'susanne': 2108, 'situation': 1990, 'dictated': 613, 'prepared': 1628, 'encounters': 722, 'barbarina': 204, 'message': 1343, 'assumes': 158, 'worst': 2357, 'catch': 333, 'errant': 755, 'tryst': 2216, 'subterfuge': 2080, 'mistaken': 1356, 'ensues': 740, 'faithful': 805, 'tricked': 2203, 'forgiveness': 889}\n"
     ]
    }
   ],
   "source": [
    "tf = TfidfVectorizer(analyzer='word',ngram_range=(1, 1), stop_words='english', decode_error = 'ignore')\n",
    "\n",
    "tfidf_matrix = tf.fit_transform(data['Description'].values.astype(str))\n",
    "print(tf.vocabulary_)"
   ]
  },
  {
   "cell_type": "code",
   "execution_count": 5,
   "id": "bcf3a5c6",
   "metadata": {
    "collapsed": true,
    "execution": {
     "iopub.execute_input": "2021-11-17T16:37:14.055187Z",
     "iopub.status.busy": "2021-11-17T16:37:14.054560Z",
     "iopub.status.idle": "2021-11-17T16:37:14.072661Z",
     "shell.execute_reply": "2021-11-17T16:37:14.073474Z",
     "shell.execute_reply.started": "2021-11-17T16:09:12.574460Z"
    },
    "jupyter": {
     "outputs_hidden": true
    },
    "papermill": {
     "duration": 0.034614,
     "end_time": "2021-11-17T16:37:14.073780",
     "exception": false,
     "start_time": "2021-11-17T16:37:14.039166",
     "status": "completed"
    },
    "tags": []
   },
   "outputs": [
    {
     "name": "stdout",
     "output_type": "stream",
     "text": [
      "[[1.00000000e+00 5.24014328e-01 1.98835549e-01 3.74938950e-03\n",
      "  2.03955966e-02 8.47039840e-03 2.26060847e-02 9.26076549e-03\n",
      "  1.56264795e-02 4.04086360e-02 1.64166426e-02 2.81433724e-02\n",
      "  1.12684182e-02 1.00649154e-02 1.60461621e-02 1.15873445e-02\n",
      "  2.11193383e-02 1.97487431e-02 3.12893261e-02 1.68197459e-02\n",
      "  1.92416029e-02 9.29702898e-03 1.13765335e-02 6.97202912e-03\n",
      "  3.32585822e-03 9.03740079e-03]\n",
      " [5.24014328e-01 1.00000000e+00 2.48232627e-01 2.57013330e-02\n",
      "  1.83214121e-02 1.22167416e-02 3.64503633e-02 3.38965055e-02\n",
      "  1.96510606e-02 3.96176674e-02 2.68141502e-02 4.32213545e-02\n",
      "  1.90815873e-02 2.36447851e-02 1.16504367e-02 2.58396284e-02\n",
      "  3.35047434e-02 2.05208462e-02 1.79704656e-02 3.99780317e-02\n",
      "  3.83454597e-02 6.50587270e-03 2.02295626e-02 1.37707220e-02\n",
      "  1.49360635e-02 1.61001732e-02]\n",
      " [1.98835549e-01 2.48232627e-01 1.00000000e+00 1.14658591e-02\n",
      "  2.18525541e-02 1.38388784e-02 3.26773490e-02 1.22437979e-02\n",
      "  3.48754615e-02 7.75716386e-02 1.78775590e-02 3.88462930e-02\n",
      "  2.05070679e-02 9.97505683e-03 2.51340164e-02 2.04002518e-02\n",
      "  2.16051360e-02 1.80673446e-02 2.49656621e-02 1.58767556e-02\n",
      "  2.05246982e-02 8.01953513e-03 8.89371642e-03 1.16013488e-02\n",
      "  1.26663971e-02 2.22754557e-02]\n",
      " [3.74938950e-03 2.57013330e-02 1.14658591e-02 1.00000000e+00\n",
      "  1.07793901e-02 3.66462337e-02 1.13246866e-02 1.71032890e-02\n",
      "  2.26546162e-02 2.58188607e-02 1.04640216e-02 1.74953478e-02\n",
      "  4.44701147e-03 7.31062973e-03 1.09192253e-02 1.35550394e-02\n",
      "  1.20839687e-02 2.98396204e-02 1.97889205e-02 1.49842747e-02\n",
      "  2.34466666e-02 1.86767051e-02 5.28548230e-03 4.90438182e-03\n",
      "  1.70821293e-02 1.25823770e-02]\n",
      " [2.03955966e-02 1.83214121e-02 2.18525541e-02 1.07793901e-02\n",
      "  1.00000000e+00 4.02721319e-01 8.00091258e-03 1.86418816e-02\n",
      "  1.68105765e-02 1.06159070e-02 1.36524140e-02 1.51965323e-02\n",
      "  2.74412561e-03 9.33526268e-03 1.31210435e-02 1.08142140e-02\n",
      "  9.77201250e-03 1.26541332e-02 1.03795107e-02 1.32774338e-02\n",
      "  8.94965476e-03 1.40250471e-02 1.42541795e-02 9.91812427e-03\n",
      "  1.11907448e-02 5.31417616e-03]\n",
      " [8.47039840e-03 1.22167416e-02 1.38388784e-02 3.66462337e-02\n",
      "  4.02721319e-01 1.00000000e+00 4.79481625e-03 1.53710481e-02\n",
      "  2.63879370e-02 1.73648329e-02 1.07955367e-02 1.12947943e-02\n",
      "  1.17196178e-02 4.54854815e-03 1.62695677e-02 1.32593744e-02\n",
      "  1.27715102e-02 3.17405969e-02 9.51547393e-03 2.18644658e-02\n",
      "  1.00522023e-02 1.35973486e-02 2.15098360e-02 1.02162579e-02\n",
      "  9.92680378e-03 1.38761367e-02]\n",
      " [2.26060847e-02 3.64503633e-02 3.26773490e-02 1.13246866e-02\n",
      "  8.00091258e-03 4.79481625e-03 1.00000000e+00 1.95119430e-02\n",
      "  1.27277791e-02 2.27445898e-02 2.70443399e-02 1.23717409e-01\n",
      "  4.18346424e-03 1.02023138e-02 1.13944470e-02 1.46530687e-02\n",
      "  1.16240817e-02 1.67840143e-02 2.32859465e-02 1.79592666e-02\n",
      "  1.55494865e-02 1.82316679e-02 9.19817347e-03 4.72213402e-03\n",
      "  3.84254674e-03 1.24102457e-02]\n",
      " [9.26076549e-03 3.38965055e-02 1.22437979e-02 1.71032890e-02\n",
      "  1.86418816e-02 1.53710481e-02 1.95119430e-02 1.00000000e+00\n",
      "  8.67757785e-02 1.49845300e-02 2.37582867e-02 1.27367344e-02\n",
      "  5.01510811e-03 1.08153997e-02 1.09421422e-02 1.26254513e-02\n",
      "  2.29979020e-02 2.61468325e-02 7.30021533e-03 1.28151968e-02\n",
      "  1.62615470e-02 2.09644345e-02 4.75637612e-02 1.12454133e-02\n",
      "  1.22390177e-02 6.98256517e-03]\n",
      " [1.56264795e-02 1.96510606e-02 3.48754615e-02 2.26546162e-02\n",
      "  1.68105765e-02 2.63879370e-02 1.27277791e-02 8.67757785e-02\n",
      "  1.00000000e+00 2.64656990e-02 1.84494543e-02 2.31534271e-02\n",
      "  1.92624963e-02 2.13532313e-02 3.32962570e-02 2.28276066e-02\n",
      "  3.63019099e-02 5.14650201e-02 2.80586571e-02 1.54156071e-02\n",
      "  2.61249770e-02 1.49356277e-02 1.65930603e-02 3.47324687e-02\n",
      "  2.59879381e-02 1.15281474e-02]\n",
      " [4.04086360e-02 3.96176674e-02 7.75716386e-02 2.58188607e-02\n",
      "  1.06159070e-02 1.73648329e-02 2.27445898e-02 1.49845300e-02\n",
      "  2.64656990e-02 1.00000000e+00 3.70584585e-02 3.34394021e-02\n",
      "  1.99799552e-02 1.16274668e-02 1.69703497e-02 2.28580288e-02\n",
      "  1.53881414e-02 2.42694217e-02 1.75654410e-02 3.87846387e-02\n",
      "  3.19026634e-02 4.09760062e-03 9.01943399e-03 5.73585200e-03\n",
      "  1.99647300e-02 1.20140233e-02]\n",
      " [1.64166426e-02 2.68141502e-02 1.78775590e-02 1.04640216e-02\n",
      "  1.36524140e-02 1.07955367e-02 2.70443399e-02 2.37582867e-02\n",
      "  1.84494543e-02 3.70584585e-02 1.00000000e+00 2.33587288e-02\n",
      "  7.42897825e-03 5.93555045e-03 2.48646499e-02 1.26654652e-02\n",
      "  1.80830348e-02 2.87780599e-02 2.19630279e-02 4.22818085e-02\n",
      "  3.57187567e-02 1.66040635e-02 2.13864310e-02 1.06429685e-01\n",
      "  2.01835083e-02 1.62239586e-02]\n",
      " [2.81433724e-02 4.32213545e-02 3.88462930e-02 1.74953478e-02\n",
      "  1.51965323e-02 1.12947943e-02 1.23717409e-01 1.27367344e-02\n",
      "  2.31534271e-02 3.34394021e-02 2.33587288e-02 1.00000000e+00\n",
      "  8.27599918e-03 6.71848326e-03 1.59781531e-02 1.35265702e-02\n",
      "  1.18395007e-02 1.81622972e-02 3.44809864e-02 1.22050162e-02\n",
      "  1.71058552e-02 8.89006728e-03 1.81130700e-02 1.20620166e-02\n",
      "  8.84620617e-03 1.47355402e-02]\n",
      " [1.12684182e-02 1.90815873e-02 2.05070679e-02 4.44701147e-03\n",
      "  2.74412561e-03 1.17196178e-02 4.18346424e-03 5.01510811e-03\n",
      "  1.92624963e-02 1.99799552e-02 7.42897825e-03 8.27599918e-03\n",
      "  1.00000000e+00 2.22038872e-02 2.41731197e-02 1.69380308e-02\n",
      "  1.75930894e-02 2.08200763e-02 5.58883465e-03 1.83218463e-02\n",
      "  4.52226807e-03 1.68556568e-02 1.22400470e-02 1.96199598e-02\n",
      "  1.43354932e-02 1.23053828e-02]\n",
      " [1.00649154e-02 2.36447851e-02 9.97505683e-03 7.31062973e-03\n",
      "  9.33526268e-03 4.54854815e-03 1.02023138e-02 1.08153997e-02\n",
      "  2.13532313e-02 1.16274668e-02 5.93555045e-03 6.71848326e-03\n",
      "  2.22038872e-02 1.00000000e+00 2.35110103e-02 1.94190771e-02\n",
      "  2.93770586e-02 1.83036331e-02 2.89209158e-03 8.94803536e-03\n",
      "  5.10408584e-03 6.82123854e-03 5.31668224e-03 1.53431186e-02\n",
      "  1.50204629e-02 1.59018328e-02]\n",
      " [1.60461621e-02 1.16504367e-02 2.51340164e-02 1.09192253e-02\n",
      "  1.31210435e-02 1.62695677e-02 1.13944470e-02 1.09421422e-02\n",
      "  3.32962570e-02 1.69703497e-02 2.48646499e-02 1.59781531e-02\n",
      "  2.41731197e-02 2.35110103e-02 1.00000000e+00 2.66630298e-02\n",
      "  2.64303402e-02 2.71693085e-02 1.59827961e-02 9.24686689e-03\n",
      "  1.13238038e-02 9.45449049e-03 1.21123837e-02 1.63618924e-02\n",
      "  1.10881695e-02 2.00196304e-02]\n",
      " [1.15873445e-02 2.58396284e-02 2.04002518e-02 1.35550394e-02\n",
      "  1.08142140e-02 1.32593744e-02 1.46530687e-02 1.26254513e-02\n",
      "  2.28276066e-02 2.28580288e-02 1.26654652e-02 1.35265702e-02\n",
      "  1.69380308e-02 1.94190771e-02 2.66630298e-02 1.00000000e+00\n",
      "  2.27883852e-02 2.77878357e-02 1.90382418e-02 1.38115952e-02\n",
      "  1.48537797e-02 8.68820489e-03 8.85477354e-03 1.40035430e-02\n",
      "  1.30061450e-02 9.73491504e-03]\n",
      " [2.11193383e-02 3.35047434e-02 2.16051360e-02 1.20839687e-02\n",
      "  9.77201250e-03 1.27715102e-02 1.16240817e-02 2.29979020e-02\n",
      "  3.63019099e-02 1.53881414e-02 1.80830348e-02 1.18395007e-02\n",
      "  1.75930894e-02 2.93770586e-02 2.64303402e-02 2.27883852e-02\n",
      "  1.00000000e+00 3.26810809e-02 1.41030202e-02 8.21120793e-03\n",
      "  5.03882016e-03 1.05685867e-02 2.00591646e-02 1.37996230e-02\n",
      "  1.20075056e-02 2.00891599e-02]\n",
      " [1.97487431e-02 2.05208462e-02 1.80673446e-02 2.98396204e-02\n",
      "  1.26541332e-02 3.17405969e-02 1.67840143e-02 2.61468325e-02\n",
      "  5.14650201e-02 2.42694217e-02 2.87780599e-02 1.81622972e-02\n",
      "  2.08200763e-02 1.83036331e-02 2.71693085e-02 2.77878357e-02\n",
      "  3.26810809e-02 1.00000000e+00 1.63711349e-02 1.46193505e-02\n",
      "  1.16567454e-02 2.12995658e-02 1.25034200e-02 9.28395552e-03\n",
      "  5.10329347e-02 1.37748234e-02]\n",
      " [3.12893261e-02 1.79704656e-02 2.49656621e-02 1.97889205e-02\n",
      "  1.03795107e-02 9.51547393e-03 2.32859465e-02 7.30021533e-03\n",
      "  2.80586571e-02 1.75654410e-02 2.19630279e-02 3.44809864e-02\n",
      "  5.58883465e-03 2.89209158e-03 1.59827961e-02 1.90382418e-02\n",
      "  1.41030202e-02 1.63711349e-02 1.00000000e+00 1.08303305e-02\n",
      "  3.34715483e-02 9.06092646e-04 9.11477941e-03 6.12630534e-03\n",
      "  2.60448210e-02 8.78352471e-03]\n",
      " [1.68197459e-02 3.99780317e-02 1.58767556e-02 1.49842747e-02\n",
      "  1.32774338e-02 2.18644658e-02 1.79592666e-02 1.28151968e-02\n",
      "  1.54156071e-02 3.87846387e-02 4.22818085e-02 1.22050162e-02\n",
      "  1.83218463e-02 8.94803536e-03 9.24686689e-03 1.38115952e-02\n",
      "  8.21120793e-03 1.46193505e-02 1.08303305e-02 1.00000000e+00\n",
      "  1.48641606e-02 3.06773809e-03 2.15742336e-02 7.65059525e-03\n",
      "  5.61397526e-03 1.24668767e-02]\n",
      " [1.92416029e-02 3.83454597e-02 2.05246982e-02 2.34466666e-02\n",
      "  8.94965476e-03 1.00522023e-02 1.55494865e-02 1.62615470e-02\n",
      "  2.61249770e-02 3.19026634e-02 3.57187567e-02 1.71058552e-02\n",
      "  4.52226807e-03 5.10408584e-03 1.13238038e-02 1.48537797e-02\n",
      "  5.03882016e-03 1.16567454e-02 3.34715483e-02 1.48641606e-02\n",
      "  1.00000000e+00 3.10409304e-03 1.42619688e-02 4.35150181e-03\n",
      "  1.34982046e-02 6.74047802e-03]\n",
      " [9.29702898e-03 6.50587270e-03 8.01953513e-03 1.86767051e-02\n",
      "  1.40250471e-02 1.35973486e-02 1.82316679e-02 2.09644345e-02\n",
      "  1.49356277e-02 4.09760062e-03 1.66040635e-02 8.89006728e-03\n",
      "  1.68556568e-02 6.82123854e-03 9.45449049e-03 8.68820489e-03\n",
      "  1.05685867e-02 2.12995658e-02 9.06092646e-04 3.06773809e-03\n",
      "  3.10409304e-03 1.00000000e+00 3.76436412e-03 5.21475388e-02\n",
      "  5.08362021e-03 2.09943953e-02]\n",
      " [1.13765335e-02 2.02295626e-02 8.89371642e-03 5.28548230e-03\n",
      "  1.42541795e-02 2.15098360e-02 9.19817347e-03 4.75637612e-02\n",
      "  1.65930603e-02 9.01943399e-03 2.13864310e-02 1.81130700e-02\n",
      "  1.22400470e-02 5.31668224e-03 1.21123837e-02 8.85477354e-03\n",
      "  2.00591646e-02 1.25034200e-02 9.11477941e-03 2.15742336e-02\n",
      "  1.42619688e-02 3.76436412e-03 1.00000000e+00 8.13627321e-03\n",
      "  3.71789564e-03 1.14683696e-02]\n",
      " [6.97202912e-03 1.37707220e-02 1.16013488e-02 4.90438182e-03\n",
      "  9.91812427e-03 1.02162579e-02 4.72213402e-03 1.12454133e-02\n",
      "  3.47324687e-02 5.73585200e-03 1.06429685e-01 1.20620166e-02\n",
      "  1.96199598e-02 1.53431186e-02 1.63618924e-02 1.40035430e-02\n",
      "  1.37996230e-02 9.28395552e-03 6.12630534e-03 7.65059525e-03\n",
      "  4.35150181e-03 5.21475388e-02 8.13627321e-03 1.00000000e+00\n",
      "  4.40081270e-03 2.62226573e-02]\n",
      " [3.32585822e-03 1.49360635e-02 1.26663971e-02 1.70821293e-02\n",
      "  1.11907448e-02 9.92680378e-03 3.84254674e-03 1.22390177e-02\n",
      "  2.59879381e-02 1.99647300e-02 2.01835083e-02 8.84620617e-03\n",
      "  1.43354932e-02 1.50204629e-02 1.10881695e-02 1.30061450e-02\n",
      "  1.20075056e-02 5.10329347e-02 2.60448210e-02 5.61397526e-03\n",
      "  1.34982046e-02 5.08362021e-03 3.71789564e-03 4.40081270e-03\n",
      "  1.00000000e+00 7.61864968e-03]\n",
      " [9.03740079e-03 1.61001732e-02 2.22754557e-02 1.25823770e-02\n",
      "  5.31417616e-03 1.38761367e-02 1.24102457e-02 6.98256517e-03\n",
      "  1.15281474e-02 1.20140233e-02 1.62239586e-02 1.47355402e-02\n",
      "  1.23053828e-02 1.59018328e-02 2.00196304e-02 9.73491504e-03\n",
      "  2.00891599e-02 1.37748234e-02 8.78352471e-03 1.24668767e-02\n",
      "  6.74047802e-03 2.09943953e-02 1.14683696e-02 2.62226573e-02\n",
      "  7.61864968e-03 1.00000000e+00]]\n",
      "0.015419569999999716\n"
     ]
    }
   ],
   "source": [
    "tic = time.process_time()\n",
    "similarity = cosine_similarity(tfidf_matrix,tfidf_matrix)\n",
    "print(similarity)\n",
    "toc = time.process_time()\n",
    "print(toc - tic)"
   ]
  },
  {
   "cell_type": "code",
   "execution_count": 6,
   "id": "2624561c",
   "metadata": {
    "execution": {
     "iopub.execute_input": "2021-11-17T16:37:14.097272Z",
     "iopub.status.busy": "2021-11-17T16:37:14.096608Z",
     "iopub.status.idle": "2021-11-17T16:37:14.107151Z",
     "shell.execute_reply": "2021-11-17T16:37:14.106635Z",
     "shell.execute_reply.started": "2021-11-17T16:17:49.494917Z"
    },
    "papermill": {
     "duration": 0.0234,
     "end_time": "2021-11-17T16:37:14.107291",
     "exception": false,
     "start_time": "2021-11-17T16:37:14.083891",
     "status": "completed"
    },
    "tags": []
   },
   "outputs": [],
   "source": [
    "def recommend(title):\n",
    "    \n",
    "    # initialise empty list of recommended movies\n",
    "    l = []\n",
    "    # get the index in tmdb corresponding to movie title that has been passed to the function\n",
    "    idx = next(iter(data[data['Name'].str.lower()==title.lower()].index), 'no match')\n",
    "\n",
    "    # creating series of the similarity scores corresponding to the index in descending order\n",
    "    sim_score = pd.Series(similarity[idx]).sort_values(ascending = False)\n",
    "\n",
    "    # getting the indexes of the 10 most similar movies - index 0 is the film passed to the function\n",
    "    top_10_index= list(sim_score.iloc[1:11].index)\n",
    "    top_10_score = sim_score.iloc[1:11]\n",
    "    avg_similarity = np.mean(top_10_score)\n",
    "    \n",
    "    # populating the list with the titles of the best 10 matching movies\n",
    "    \n",
    "    for i in top_10_index:\n",
    "        l.append(data.loc[i,'Name'])\n",
    "    \n",
    "    top_10 = pd.DataFrame( np.column_stack((top_10_score,l)), columns=['similarity','Name']) \n",
    "    \n",
    "    return top_10,avg_similarity"
   ]
  },
  {
   "cell_type": "code",
   "execution_count": 7,
   "id": "e9ade0cd",
   "metadata": {
    "execution": {
     "iopub.execute_input": "2021-11-17T16:37:14.130593Z",
     "iopub.status.busy": "2021-11-17T16:37:14.129933Z",
     "iopub.status.idle": "2021-11-17T16:37:14.146962Z",
     "shell.execute_reply": "2021-11-17T16:37:14.147602Z",
     "shell.execute_reply.started": "2021-11-17T16:17:54.270388Z"
    },
    "papermill": {
     "duration": 0.030274,
     "end_time": "2021-11-17T16:37:14.147782",
     "exception": false,
     "start_time": "2021-11-17T16:37:14.117508",
     "status": "completed"
    },
    "tags": []
   },
   "outputs": [
    {
     "data": {
      "text/plain": [
       "(             similarity                Name\n",
       " 0    0.4027213194487712             Giasone\n",
       " 1    0.0366462337126598             Ormindo\n",
       " 2   0.03174059693961892            Turandot\n",
       " 3  0.026387936992844727         Les Troyens\n",
       " 4  0.021864465801626768              Armide\n",
       " 5   0.02150983598328334     Die Zauberflöte\n",
       " 6   0.01736483285991814    Castor et Pollux\n",
       " 7  0.016269567709492373    Madama Butterfly\n",
       " 8  0.015371048063446427     Dido and Aeneas\n",
       " 9   0.01387613669538401  Le Nozze di Figaro,\n",
       " 0.06037519742070459)"
      ]
     },
     "execution_count": 7,
     "metadata": {},
     "output_type": "execute_result"
    }
   ],
   "source": [
    "recommend('Medea')"
   ]
  }
 ],
 "metadata": {
  "kernelspec": {
   "display_name": "Python 3",
   "language": "python",
   "name": "python3"
  },
  "language_info": {
   "codemirror_mode": {
    "name": "ipython",
    "version": 3
   },
   "file_extension": ".py",
   "mimetype": "text/x-python",
   "name": "python",
   "nbconvert_exporter": "python",
   "pygments_lexer": "ipython3",
   "version": "3.7.10"
  },
  "papermill": {
   "default_parameters": {},
   "duration": 11.758126,
   "end_time": "2021-11-17T16:37:14.870089",
   "environment_variables": {},
   "exception": null,
   "input_path": "__notebook__.ipynb",
   "output_path": "__notebook__.ipynb",
   "parameters": {},
   "start_time": "2021-11-17T16:37:03.111963",
   "version": "2.3.3"
  }
 },
 "nbformat": 4,
 "nbformat_minor": 5
}
